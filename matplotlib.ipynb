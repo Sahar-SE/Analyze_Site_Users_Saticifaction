from matplotlib import pyplot as plt
import pandas as pd
import numpy as np

hours = range(24)

viewers = [30, 17, 34, 29, 19, 14, 3, 2, 4, 9, 5, 48, 62, 58, 40, 51, 69, 55, 76, 81, 102, 120, 71, 63]

plt.title("Viewers Time Series")
plt.xlabel("Hours")
plt.ylabel("Viewers")

plt.plot(hours, viewers)
plt.legend(["2024-01-01"])
plt.subplot()

ax.set_facecolor('seashell')

ax.set_xticks(hour)
ax.set_yticks([0, 20, 40, 60, 80, 100, 120])

y_upper = [i + (i*0.15) for i in viewers_hour]
y_lower = [i - (i*0.15) for i in viewers_hour]

plt.fill_between(hour, y_lower, y_upper, alpha=0.2)

plt.show()