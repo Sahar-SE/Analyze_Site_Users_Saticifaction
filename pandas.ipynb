import pandas as pd

# loading date or we can say querying
df = pd.read_csv("pages_visit.csv")

# displaying
print(df.head())